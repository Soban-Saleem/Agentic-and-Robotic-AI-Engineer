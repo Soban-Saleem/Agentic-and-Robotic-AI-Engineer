{
  "nbformat": 4,
  "nbformat_minor": 0,
  "metadata": {
    "colab": {
      "provenance": [],
      "authorship_tag": "ABX9TyP6LnddcsNZ1Lf7QgHjVB8g",
      "include_colab_link": true
    },
    "kernelspec": {
      "name": "python3",
      "display_name": "Python 3"
    },
    "language_info": {
      "name": "python"
    }
  },
  "cells": [
    {
      "cell_type": "markdown",
      "metadata": {
        "id": "view-in-github",
        "colab_type": "text"
      },
      "source": [
        "<a href=\"https://colab.research.google.com/github/Soban-Saleem/Agentic-and-Robotic-AI-Engineer/blob/main/Exploring_Gemini_2_0.ipynb\" target=\"_parent\"><img src=\"https://colab.research.google.com/assets/colab-badge.svg\" alt=\"Open In Colab\"/></a>"
      ]
    },
    {
      "cell_type": "code",
      "execution_count": 2,
      "metadata": {
        "id": "7f4FlHE465dC"
      },
      "outputs": [],
      "source": [
        "!pip install --upgrade --quiet google-genai\n"
      ]
    },
    {
      "cell_type": "markdown",
      "source": [
        "Setting up API key"
      ],
      "metadata": {
        "id": "oT72Zg9T7Xz4"
      }
    },
    {
      "cell_type": "code",
      "source": [
        "from google.colab import userdata\n",
        "GOOGLE_API_KEY: str = userdata.get('GOOGLE_API_KEY_1')\n",
        "if(GOOGLE_API_KEY):\n",
        "  print(\"API key set\")\n",
        "else:\n",
        "  print(\"API key not set\")"
      ],
      "metadata": {
        "colab": {
          "base_uri": "https://localhost:8080/"
        },
        "id": "eXa7cGwE7a4a",
        "outputId": "51fa0797-fd87-454f-d660-cf3722f07381"
      },
      "execution_count": 3,
      "outputs": [
        {
          "output_type": "stream",
          "name": "stdout",
          "text": [
            "API key set\n"
          ]
        }
      ]
    },
    {
      "cell_type": "code",
      "source": [
        "from google import genai\n",
        "from google.genai import Client\n",
        "\n",
        "client: Client = genai.Client(\n",
        "    api_key=GOOGLE_API_KEY,\n",
        ")\n",
        "model: str = \"gemini-2.0-flash-exp\""
      ],
      "metadata": {
        "id": "Czdmerqb8eLf"
      },
      "execution_count": 4,
      "outputs": []
    },
    {
      "cell_type": "code",
      "source": [
        "from google.genai.types import GenerateContentResponse\n",
        "from IPython.display import display, Markdown\n",
        "\n",
        "response: GenerateContentResponse = client.models.generate_content(\n",
        "    model=model,\n",
        "    contents =\"How does MAtrix work?\"\n",
        "    )"
      ],
      "metadata": {
        "id": "DmkAEv72K8wV"
      },
      "execution_count": 12,
      "outputs": []
    },
    {
      "cell_type": "code",
      "source": [
        "display(response)"
      ],
      "metadata": {
        "colab": {
          "base_uri": "https://localhost:8080/",
          "height": 763
        },
        "id": "72c6BQD4Nigg",
        "outputId": "76734b8e-2a27-46a7-bece-c0b4aef96399"
      },
      "execution_count": 16,
      "outputs": [
        {
          "output_type": "display_data",
          "data": {
            "text/plain": [
              "GenerateContentResponse(candidates=[Candidate(content=Content(parts=[Part(video_metadata=None, thought=None, code_execution_result=None, executable_code=None, file_data=None, function_call=None, function_response=None, inline_data=None, text='Matrix is an open-source, decentralized communication protocol designed for real-time communication. It\\'s not an application itself, but rather a set of standards and APIs that allow different clients, servers, and services to communicate with each other. Think of it like the HTTP protocol for web browsing, but for real-time chat and other communication methods.\\n\\nHere\\'s a breakdown of how Matrix works, broken down into key concepts:\\n\\n**1. Decentralization & Federation:**\\n\\n* **Not One Central Server:** Unlike services like Slack or Discord, Matrix isn\\'t tied to a single company or server. Instead, it\\'s designed to be decentralized.\\n* **Homeservers:** Individuals or organizations can run their own \"homeservers.\" These servers store user data, messages, and participate in the network.\\n* **Federation:** Homeservers connect and communicate with each other, allowing users on different servers to interact seamlessly. This is similar to how email servers work.\\n* **Benefits of Decentralization:**\\n    * **No Single Point of Failure:** If one server goes down, the rest of the network continues to function.\\n    * **User Control:** You can choose which homeserver to use and control your own data.\\n    * **Resilience:** Less susceptible to censorship or corporate control.\\n\\n**2. Rooms (Channels):**\\n\\n* **Where Conversations Happen:** Users interact in \"rooms,\" which are like chat channels or group conversations.\\n* **Persistence:** Room history is generally stored on the participating homeservers.\\n* **Access Control:** Rooms can be public, invite-only, or private.\\n* **Multiple Users:** Many users can join the same room, regardless of which homeserver they use.\\n\\n**3. Users & IDs:**\\n\\n* **Unique Identifiers:** Users are identified by their Matrix ID, which typically looks like `@username:homeserver.domain`. For example, `@alice:example.com`.\\n* **Homeserver Affiliation:** The ID includes the homeserver where the user is registered.\\n* **Federated Identity:** The system knows how to reach a user based on their ID, even if they\\'re on a different server.\\n\\n**4. The Matrix API (HTTP/JSON):**\\n\\n* **Standard Interface:** The Matrix protocol defines a standardized HTTP API that clients and servers use to communicate.\\n* **JSON Format:** Data is exchanged using JSON, a common and lightweight data format.\\n* **Client-Server Communication:** Clients use the API to send and receive messages, create rooms, join rooms, manage user settings, etc.\\n* **Server-Server Communication (Federation):** Homeservers use the API to exchange data, replicate room history, and manage users who are part of shared rooms.\\n\\n**5. End-to-End Encryption (E2EE):**\\n\\n* **Security Focus:** Matrix supports end-to-end encryption using the Olm and Megolm algorithms.\\n* **User-Controlled Keys:** Encryption keys are managed by the client devices of each user, ensuring that only those users can read the messages.\\n* **Privacy:** Even the homeservers cannot access the content of encrypted messages.\\n\\n**6. Clients & Bridges:**\\n\\n* **Clients:** You interact with the Matrix network through client applications. These come in various forms, including:\\n    * **Web Clients:** Accessible through a web browser (e.g., Element Web).\\n    * **Desktop Clients:** Installed on your computer (e.g., Element Desktop, Fractal).\\n    * **Mobile Clients:** Apps for smartphones and tablets (e.g., Element Mobile).\\n* **Bridges:** These are software components that connect Matrix to other communication platforms. For example, you can use a bridge to connect your Matrix room to a Discord server, allowing users on both platforms to communicate.\\n\\n**How a Typical Interaction Works:**\\n\\n1. **User A on Homeserver 1 sends a message to User B on Homeserver 2 in a shared room:**\\n   * User A\\'s client uses the Matrix API to send the message to Homeserver 1.\\n   * Homeserver 1 checks who else is in the room and uses the federation API to send the message to Homeserver 2.\\n   * Homeserver 2 delivers the message to User B\\'s client.\\n\\n2. **For E2EE:**\\n   * User A\\'s client encrypts the message using keys shared with User B\\'s client.\\n   * The encrypted message is sent across the Matrix network.\\n   * User B\\'s client decrypts the message using its corresponding key.\\n\\n**Key Advantages of Matrix:**\\n\\n* **Open and Decentralized:** No single point of control or failure.\\n* **Federated:** Allows different servers to connect and interact.\\n* **End-to-End Encryption:** Provides strong privacy and security.\\n* **Open Source:** Encourages community development and transparency.\\n* **Extensible:** Allows for customization and the development of new features.\\n* **Bridges:** Allows for communication with other platforms.\\n\\n**In Summary:**\\n\\nMatrix provides a powerful and flexible communication protocol that prioritizes decentralization, user control, and security. It\\'s more than just chat; it\\'s a foundation for building various types of real-time communication applications. Instead of being controlled by a single company, the Matrix network is powered by a network of interconnected servers and clients that follow an open standard.\\n\\nWhile it might seem complex, the underlying mechanics allow for seamless communication between users regardless of where they are registered, ensuring a resilient and user-centric communication experience.\\n')], role='model'), citation_metadata=None, finish_message=None, token_count=None, avg_logprobs=-0.4794910891809929, finish_reason='STOP', grounding_metadata=None, index=None, logprobs_result=None, safety_ratings=[SafetyRating(blocked=None, category='HARM_CATEGORY_HATE_SPEECH', probability='NEGLIGIBLE', probability_score=None, severity=None, severity_score=None), SafetyRating(blocked=None, category='HARM_CATEGORY_DANGEROUS_CONTENT', probability='NEGLIGIBLE', probability_score=None, severity=None, severity_score=None), SafetyRating(blocked=None, category='HARM_CATEGORY_HARASSMENT', probability='NEGLIGIBLE', probability_score=None, severity=None, severity_score=None), SafetyRating(blocked=None, category='HARM_CATEGORY_SEXUALLY_EXPLICIT', probability='NEGLIGIBLE', probability_score=None, severity=None, severity_score=None)])], model_version='gemini-2.0-flash-exp', prompt_feedback=None, usage_metadata=GenerateContentResponseUsageMetadata(cached_content_token_count=None, candidates_token_count=1167, prompt_token_count=8, total_token_count=1175), automatic_function_calling_history=[], parsed=None)"
            ]
          },
          "metadata": {}
        }
      ]
    },
    {
      "cell_type": "code",
      "source": [
        "display(Markdown(response.text))"
      ],
      "metadata": {
        "colab": {
          "base_uri": "https://localhost:8080/",
          "height": 1000
        },
        "id": "urobu-HCOEe7",
        "outputId": "2501ef8a-0d6d-43cc-ab03-b33a11c13475"
      },
      "execution_count": 18,
      "outputs": [
        {
          "output_type": "display_data",
          "data": {
            "text/plain": [
              "<IPython.core.display.Markdown object>"
            ],
            "text/markdown": "Matrix is an open-source, decentralized communication protocol designed for real-time communication. It's not an application itself, but rather a set of standards and APIs that allow different clients, servers, and services to communicate with each other. Think of it like the HTTP protocol for web browsing, but for real-time chat and other communication methods.\n\nHere's a breakdown of how Matrix works, broken down into key concepts:\n\n**1. Decentralization & Federation:**\n\n* **Not One Central Server:** Unlike services like Slack or Discord, Matrix isn't tied to a single company or server. Instead, it's designed to be decentralized.\n* **Homeservers:** Individuals or organizations can run their own \"homeservers.\" These servers store user data, messages, and participate in the network.\n* **Federation:** Homeservers connect and communicate with each other, allowing users on different servers to interact seamlessly. This is similar to how email servers work.\n* **Benefits of Decentralization:**\n    * **No Single Point of Failure:** If one server goes down, the rest of the network continues to function.\n    * **User Control:** You can choose which homeserver to use and control your own data.\n    * **Resilience:** Less susceptible to censorship or corporate control.\n\n**2. Rooms (Channels):**\n\n* **Where Conversations Happen:** Users interact in \"rooms,\" which are like chat channels or group conversations.\n* **Persistence:** Room history is generally stored on the participating homeservers.\n* **Access Control:** Rooms can be public, invite-only, or private.\n* **Multiple Users:** Many users can join the same room, regardless of which homeserver they use.\n\n**3. Users & IDs:**\n\n* **Unique Identifiers:** Users are identified by their Matrix ID, which typically looks like `@username:homeserver.domain`. For example, `@alice:example.com`.\n* **Homeserver Affiliation:** The ID includes the homeserver where the user is registered.\n* **Federated Identity:** The system knows how to reach a user based on their ID, even if they're on a different server.\n\n**4. The Matrix API (HTTP/JSON):**\n\n* **Standard Interface:** The Matrix protocol defines a standardized HTTP API that clients and servers use to communicate.\n* **JSON Format:** Data is exchanged using JSON, a common and lightweight data format.\n* **Client-Server Communication:** Clients use the API to send and receive messages, create rooms, join rooms, manage user settings, etc.\n* **Server-Server Communication (Federation):** Homeservers use the API to exchange data, replicate room history, and manage users who are part of shared rooms.\n\n**5. End-to-End Encryption (E2EE):**\n\n* **Security Focus:** Matrix supports end-to-end encryption using the Olm and Megolm algorithms.\n* **User-Controlled Keys:** Encryption keys are managed by the client devices of each user, ensuring that only those users can read the messages.\n* **Privacy:** Even the homeservers cannot access the content of encrypted messages.\n\n**6. Clients & Bridges:**\n\n* **Clients:** You interact with the Matrix network through client applications. These come in various forms, including:\n    * **Web Clients:** Accessible through a web browser (e.g., Element Web).\n    * **Desktop Clients:** Installed on your computer (e.g., Element Desktop, Fractal).\n    * **Mobile Clients:** Apps for smartphones and tablets (e.g., Element Mobile).\n* **Bridges:** These are software components that connect Matrix to other communication platforms. For example, you can use a bridge to connect your Matrix room to a Discord server, allowing users on both platforms to communicate.\n\n**How a Typical Interaction Works:**\n\n1. **User A on Homeserver 1 sends a message to User B on Homeserver 2 in a shared room:**\n   * User A's client uses the Matrix API to send the message to Homeserver 1.\n   * Homeserver 1 checks who else is in the room and uses the federation API to send the message to Homeserver 2.\n   * Homeserver 2 delivers the message to User B's client.\n\n2. **For E2EE:**\n   * User A's client encrypts the message using keys shared with User B's client.\n   * The encrypted message is sent across the Matrix network.\n   * User B's client decrypts the message using its corresponding key.\n\n**Key Advantages of Matrix:**\n\n* **Open and Decentralized:** No single point of control or failure.\n* **Federated:** Allows different servers to connect and interact.\n* **End-to-End Encryption:** Provides strong privacy and security.\n* **Open Source:** Encourages community development and transparency.\n* **Extensible:** Allows for customization and the development of new features.\n* **Bridges:** Allows for communication with other platforms.\n\n**In Summary:**\n\nMatrix provides a powerful and flexible communication protocol that prioritizes decentralization, user control, and security. It's more than just chat; it's a foundation for building various types of real-time communication applications. Instead of being controlled by a single company, the Matrix network is powered by a network of interconnected servers and clients that follow an open standard.\n\nWhile it might seem complex, the underlying mechanics allow for seamless communication between users regardless of where they are registered, ensuring a resilient and user-centric communication experience.\n"
          },
          "metadata": {}
        }
      ]
    },
    {
      "cell_type": "markdown",
      "source": [
        "Uploading video to Gemini 2.0 flash through device"
      ],
      "metadata": {
        "id": "vrbHzhPNizo6"
      }
    },
    {
      "cell_type": "code",
      "source": [
        "from google.colab import files\n",
        "uploaded = files.upload()\n"
      ],
      "metadata": {
        "colab": {
          "base_uri": "https://localhost:8080/",
          "height": 73
        },
        "id": "aZZ8DaAGO1dH",
        "outputId": "8a067c49-3ac4-4a53-cc85-82ef8f8badc4"
      },
      "execution_count": 19,
      "outputs": [
        {
          "output_type": "display_data",
          "data": {
            "text/plain": [
              "<IPython.core.display.HTML object>"
            ],
            "text/html": [
              "\n",
              "     <input type=\"file\" id=\"files-9a506326-0d81-41bb-9019-76d19e44d898\" name=\"files[]\" multiple disabled\n",
              "        style=\"border:none\" />\n",
              "     <output id=\"result-9a506326-0d81-41bb-9019-76d19e44d898\">\n",
              "      Upload widget is only available when the cell has been executed in the\n",
              "      current browser session. Please rerun this cell to enable.\n",
              "      </output>\n",
              "      <script>// Copyright 2017 Google LLC\n",
              "//\n",
              "// Licensed under the Apache License, Version 2.0 (the \"License\");\n",
              "// you may not use this file except in compliance with the License.\n",
              "// You may obtain a copy of the License at\n",
              "//\n",
              "//      http://www.apache.org/licenses/LICENSE-2.0\n",
              "//\n",
              "// Unless required by applicable law or agreed to in writing, software\n",
              "// distributed under the License is distributed on an \"AS IS\" BASIS,\n",
              "// WITHOUT WARRANTIES OR CONDITIONS OF ANY KIND, either express or implied.\n",
              "// See the License for the specific language governing permissions and\n",
              "// limitations under the License.\n",
              "\n",
              "/**\n",
              " * @fileoverview Helpers for google.colab Python module.\n",
              " */\n",
              "(function(scope) {\n",
              "function span(text, styleAttributes = {}) {\n",
              "  const element = document.createElement('span');\n",
              "  element.textContent = text;\n",
              "  for (const key of Object.keys(styleAttributes)) {\n",
              "    element.style[key] = styleAttributes[key];\n",
              "  }\n",
              "  return element;\n",
              "}\n",
              "\n",
              "// Max number of bytes which will be uploaded at a time.\n",
              "const MAX_PAYLOAD_SIZE = 100 * 1024;\n",
              "\n",
              "function _uploadFiles(inputId, outputId) {\n",
              "  const steps = uploadFilesStep(inputId, outputId);\n",
              "  const outputElement = document.getElementById(outputId);\n",
              "  // Cache steps on the outputElement to make it available for the next call\n",
              "  // to uploadFilesContinue from Python.\n",
              "  outputElement.steps = steps;\n",
              "\n",
              "  return _uploadFilesContinue(outputId);\n",
              "}\n",
              "\n",
              "// This is roughly an async generator (not supported in the browser yet),\n",
              "// where there are multiple asynchronous steps and the Python side is going\n",
              "// to poll for completion of each step.\n",
              "// This uses a Promise to block the python side on completion of each step,\n",
              "// then passes the result of the previous step as the input to the next step.\n",
              "function _uploadFilesContinue(outputId) {\n",
              "  const outputElement = document.getElementById(outputId);\n",
              "  const steps = outputElement.steps;\n",
              "\n",
              "  const next = steps.next(outputElement.lastPromiseValue);\n",
              "  return Promise.resolve(next.value.promise).then((value) => {\n",
              "    // Cache the last promise value to make it available to the next\n",
              "    // step of the generator.\n",
              "    outputElement.lastPromiseValue = value;\n",
              "    return next.value.response;\n",
              "  });\n",
              "}\n",
              "\n",
              "/**\n",
              " * Generator function which is called between each async step of the upload\n",
              " * process.\n",
              " * @param {string} inputId Element ID of the input file picker element.\n",
              " * @param {string} outputId Element ID of the output display.\n",
              " * @return {!Iterable<!Object>} Iterable of next steps.\n",
              " */\n",
              "function* uploadFilesStep(inputId, outputId) {\n",
              "  const inputElement = document.getElementById(inputId);\n",
              "  inputElement.disabled = false;\n",
              "\n",
              "  const outputElement = document.getElementById(outputId);\n",
              "  outputElement.innerHTML = '';\n",
              "\n",
              "  const pickedPromise = new Promise((resolve) => {\n",
              "    inputElement.addEventListener('change', (e) => {\n",
              "      resolve(e.target.files);\n",
              "    });\n",
              "  });\n",
              "\n",
              "  const cancel = document.createElement('button');\n",
              "  inputElement.parentElement.appendChild(cancel);\n",
              "  cancel.textContent = 'Cancel upload';\n",
              "  const cancelPromise = new Promise((resolve) => {\n",
              "    cancel.onclick = () => {\n",
              "      resolve(null);\n",
              "    };\n",
              "  });\n",
              "\n",
              "  // Wait for the user to pick the files.\n",
              "  const files = yield {\n",
              "    promise: Promise.race([pickedPromise, cancelPromise]),\n",
              "    response: {\n",
              "      action: 'starting',\n",
              "    }\n",
              "  };\n",
              "\n",
              "  cancel.remove();\n",
              "\n",
              "  // Disable the input element since further picks are not allowed.\n",
              "  inputElement.disabled = true;\n",
              "\n",
              "  if (!files) {\n",
              "    return {\n",
              "      response: {\n",
              "        action: 'complete',\n",
              "      }\n",
              "    };\n",
              "  }\n",
              "\n",
              "  for (const file of files) {\n",
              "    const li = document.createElement('li');\n",
              "    li.append(span(file.name, {fontWeight: 'bold'}));\n",
              "    li.append(span(\n",
              "        `(${file.type || 'n/a'}) - ${file.size} bytes, ` +\n",
              "        `last modified: ${\n",
              "            file.lastModifiedDate ? file.lastModifiedDate.toLocaleDateString() :\n",
              "                                    'n/a'} - `));\n",
              "    const percent = span('0% done');\n",
              "    li.appendChild(percent);\n",
              "\n",
              "    outputElement.appendChild(li);\n",
              "\n",
              "    const fileDataPromise = new Promise((resolve) => {\n",
              "      const reader = new FileReader();\n",
              "      reader.onload = (e) => {\n",
              "        resolve(e.target.result);\n",
              "      };\n",
              "      reader.readAsArrayBuffer(file);\n",
              "    });\n",
              "    // Wait for the data to be ready.\n",
              "    let fileData = yield {\n",
              "      promise: fileDataPromise,\n",
              "      response: {\n",
              "        action: 'continue',\n",
              "      }\n",
              "    };\n",
              "\n",
              "    // Use a chunked sending to avoid message size limits. See b/62115660.\n",
              "    let position = 0;\n",
              "    do {\n",
              "      const length = Math.min(fileData.byteLength - position, MAX_PAYLOAD_SIZE);\n",
              "      const chunk = new Uint8Array(fileData, position, length);\n",
              "      position += length;\n",
              "\n",
              "      const base64 = btoa(String.fromCharCode.apply(null, chunk));\n",
              "      yield {\n",
              "        response: {\n",
              "          action: 'append',\n",
              "          file: file.name,\n",
              "          data: base64,\n",
              "        },\n",
              "      };\n",
              "\n",
              "      let percentDone = fileData.byteLength === 0 ?\n",
              "          100 :\n",
              "          Math.round((position / fileData.byteLength) * 100);\n",
              "      percent.textContent = `${percentDone}% done`;\n",
              "\n",
              "    } while (position < fileData.byteLength);\n",
              "  }\n",
              "\n",
              "  // All done.\n",
              "  yield {\n",
              "    response: {\n",
              "      action: 'complete',\n",
              "    }\n",
              "  };\n",
              "}\n",
              "\n",
              "scope.google = scope.google || {};\n",
              "scope.google.colab = scope.google.colab || {};\n",
              "scope.google.colab._files = {\n",
              "  _uploadFiles,\n",
              "  _uploadFilesContinue,\n",
              "};\n",
              "})(self);\n",
              "</script> "
            ]
          },
          "metadata": {}
        },
        {
          "output_type": "stream",
          "name": "stdout",
          "text": [
            "Saving Gemini_2.0_Flash_Testing.mp4 to Gemini_2.0_Flash_Testing.mp4\n"
          ]
        }
      ]
    },
    {
      "cell_type": "markdown",
      "source": [
        "Uploading through drive url"
      ],
      "metadata": {
        "id": "pLvs_U1mi7x9"
      }
    },
    {
      "cell_type": "code",
      "source": [
        "!wget https://drive.google.com/file/d/1Oeyjejr0QFd405TYJLRi4haKdR7qkfN4/view?usp=drive_link -O Gemini_2.0_Flash_Testing.mp4 -q\n"
      ],
      "metadata": {
        "id": "5-HIhQxlfuMn"
      },
      "execution_count": 23,
      "outputs": []
    },
    {
      "cell_type": "markdown",
      "source": [
        "Interacting and Analyzing both the visual and audio components of the video"
      ],
      "metadata": {
        "id": "iUSa13oFi_U6"
      }
    },
    {
      "cell_type": "code",
      "source": [
        "from google.genai.types import Content, Part\n",
        "prompt = \"\"\"For each scene in this video,\n",
        "            generate captions that describe the scene along with any spoken text placed in quotation marks.\n",
        "            Place each caption into an object with the timecode of the caption in the video.\n",
        "         \"\"\"\n",
        "\n",
        "video = pottery_video\n",
        "\n",
        "response = client.models.generate_content(\n",
        "    model=model,\n",
        "    contents=[\n",
        "        Content(\n",
        "            role=\"user\",\n",
        "            parts=[\n",
        "                Part.from_uri(\n",
        "                    file_uri=video.uri or \"\",\n",
        "                    mime_type=video.mime_type or \"\"),\n",
        "                ]),\n",
        "        prompt,\n",
        "    ]\n",
        ")\n",
        "\n",
        "Markdown(response.text)"
      ],
      "metadata": {
        "colab": {
          "base_uri": "https://localhost:8080/",
          "height": 488
        },
        "id": "EKuPsSyhgx4U",
        "outputId": "444ff838-f14b-418b-f711-e7b03fd9cc17"
      },
      "execution_count": 37,
      "outputs": [
        {
          "output_type": "execute_result",
          "data": {
            "text/plain": [
              "<IPython.core.display.Markdown object>"
            ],
            "text/markdown": "```json\n[\n    {\n        \"timecode\": \"00:00\",\n        \"caption\": \"A close-up shot of a computer screen displaying a web browser. The tab title is \\\"Exploring\\_Gemini\\_2.0.ipynb\\\". There's a dark background and white text, which reads 'Matrix is an open-source, decentralized communication protocol designed for real-time communication. It's not an application itself, but rather APIs that allow different clients, servers, and services to communicate with each other. Think of it like the HTTP protocol for web browsing, but for other communication methods. Here's a breakdown of how Matrix works, broken down into key concepts: 1. Decentralization & Federation: • Not One Central Server: Unlike services like Slack or Discord, Matrix isn't tied to a single company or server. Instead, it's designed to be • Homeservers: Individuals or organizations can run their own \\\"homeservers.\\\" These servers store user data, messages, and participate in • Federation: Homeservers connect and communicate with each other, allowing users on different servers to interact seamlessly. This is how servers work. • Benefits of Decentralization: • No Single Point of Failure: If one server goes down, the rest of the network continues to function. • User Control: You can choose which homeserver to use and control your own data. • Resilience: Less susceptible to censorship or corporate control. 2. Rooms (Channels): • Where Conversations Happen: Users interact in \\\"rooms,\\\" which are like chat channels or group conversations. • Persistence: Room history is generally stored on the participating homeservers. • Access Control: Rooms can be public, invite-only, or private. • Multiple Users: Many users can join the same room, regardless of which homeserver they use.'\"\n    },\n    {\n        \"timecode\": \"00:00\",\n        \"caption\": \"\\\"My name is Subhan, and I am currently exploring the fascinating world of AI and machine learning.\\\"\"\n    },\n    {\n        \"timecode\": \"00:07\",\n        \"caption\": \"\\\"I am excited to be working with Google Gemini 2.0 flash for this project, which demonstrates its ability to analyze both video and audio inputs seamlessly.\\\"\"\n    },\n    {\n      \"timecode\": \"00:23\",\n      \"caption\": \"\\\"In this video, I will provide a brief introduction about myself.\\\"\"\n    },\n    {\n      \"timecode\": \"00:27\",\n      \"caption\": \"\\\"I have a background in computer science, AI, and some web development, and I am passionate about learning and applying cutting-edge technologies to solve real-world problems.\\\"\"\n    },\n    {\n      \"timecode\": \"00:40\",\n      \"caption\": \"\\\"I look forward to see how Gemini 2.0 flash analyzes this video and understands both the visual and audio components. Thank you.\\\"\"\n    }\n]\n```\n"
          },
          "metadata": {},
          "execution_count": 37
        }
      ]
    }
  ]
}